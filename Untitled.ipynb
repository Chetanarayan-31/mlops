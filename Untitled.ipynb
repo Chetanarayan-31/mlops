{
 "cells": [
  {
   "cell_type": "code",
   "execution_count": 1,
   "id": "0757b803",
   "metadata": {},
   "outputs": [],
   "source": [
    "import requests"
   ]
  },
  {
   "cell_type": "code",
   "execution_count": 24,
   "id": "43156254",
   "metadata": {},
   "outputs": [],
   "source": [
    "inference_request = {\n",
    "    \n",
    "        \"columns\": [\n",
    "            \"alcohol\",\n",
    "            \"chlorides\",\n",
    "            \"citric acid\",\n",
    "            \"density\",\n",
    "            \"fixed acidity\",\n",
    "            \"free sulfur dioxide\",\n",
    "            \"pH\",\n",
    "            \"residual sugar\",\n",
    "            \"sulphates\",\n",
    "            \"total sulfur dioxide\",\n",
    "            \"volatile acidity\"\n",
    "        ],\n",
    "        \"data\": [[7.4,0.7,0,1.9,0.076,11,34,0.9978,3.51,0.56,9.4]]\n",
    "    \n",
    "}"
   ]
  },
  {
   "cell_type": "code",
   "execution_count": 25,
   "id": "c120dead",
   "metadata": {},
   "outputs": [],
   "source": [
    "endpoint = \"http://localhost:11111/invocations\"\n",
    "response = requests.post(endpoint, json=inference_request)"
   ]
  },
  {
   "cell_type": "code",
   "execution_count": 26,
   "id": "e705e11c",
   "metadata": {},
   "outputs": [
    {
     "data": {
      "text/plain": [
       "{'error': 'there was an error with the request'}"
      ]
     },
     "execution_count": 26,
     "metadata": {},
     "output_type": "execute_result"
    }
   ],
   "source": [
    "response.json()"
   ]
  },
  {
   "cell_type": "code",
   "execution_count": 19,
   "id": "0ec06cae",
   "metadata": {},
   "outputs": [
    {
     "data": {
      "text/plain": [
       "{'error': 'there was an error with the request'}"
      ]
     },
     "execution_count": 19,
     "metadata": {},
     "output_type": "execute_result"
    }
   ],
   "source": [
    "endpoint1 = \"http://localhost:11111/v2/models/ElasticnetWineModel\"\n",
    "response1 = requests.get(endpoint1)\n",
    "\n",
    "response1.json()"
   ]
  },
  {
   "cell_type": "code",
   "execution_count": null,
   "id": "a3a7e6b6",
   "metadata": {},
   "outputs": [],
   "source": []
  }
 ],
 "metadata": {
  "kernelspec": {
   "display_name": "Python 3 (ipykernel)",
   "language": "python",
   "name": "python3"
  },
  "language_info": {
   "codemirror_mode": {
    "name": "ipython",
    "version": 3
   },
   "file_extension": ".py",
   "mimetype": "text/x-python",
   "name": "python",
   "nbconvert_exporter": "python",
   "pygments_lexer": "ipython3",
   "version": "3.10.7"
  }
 },
 "nbformat": 4,
 "nbformat_minor": 5
}
